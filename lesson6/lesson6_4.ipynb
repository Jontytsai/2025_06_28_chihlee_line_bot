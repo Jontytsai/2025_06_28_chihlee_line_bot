{
 "cells": [
  {
   "cell_type": "code",
   "execution_count": 1,
   "id": "8a90c710",
   "metadata": {},
   "outputs": [
    {
     "name": "stdout",
     "output_type": "stream",
     "text": [
      "===========AI回應==============\n"
     ]
    },
    {
     "data": {
      "text/markdown": [
       "好的，用簡單的方式解釋一下 Python 的函式：\n",
       "\n",
       "**想像一下，Python 的函式就像工具箱裡的指令，** 你需要使用這些指令才能完成某些任務。\n",
       "\n",
       "**簡單來說，一個函式就是一個可以重複執行的一段程式碼。**\n",
       "\n",
       "**以下是幾個關鍵點：**\n",
       "\n",
       "1. **函數 (Function):**  最常見的函式類型。你可以把它想像成一個小小的指令，可以接收一些參數（像是數據輸入），然後做一些計算或操作，並返回結果。\n",
       "\n",
       "   * 例子：`def greet(name):  print(\"Hello, \" + name + \"!\")`  這個函式接收一個參數 \"name\"，然後印出一個歡迎訊息。\n",
       "\n",
       "2. **函式會保存一些信息：** 函式會記錄下你想做的事情，以及你需要什麼參數，以及你希望返回什麼結果。\n",
       "\n",
       "3. **函式可以被叫做、呼叫 (call) 執行：** 你可以根據函式的指令，在程式中不斷地呼叫它，讓它執行你的程式碼。\n",
       "\n",
       "4. **函式可以接收參數：** 參數就像輸入給函式。  你可以給函式一些值，讓它根據這些值做不同的事情。\n",
       "\n",
       "**為什麼使用函式？**\n",
       "\n",
       "* **重複性:** 程式碼可以重複執行同樣的步驟，讓程式更簡潔。\n",
       "* **可讀性:**  函式可以讓程式碼更易於理解。\n",
       "* **組織性:** 函式可以讓程式碼更有組織，更容易管理。\n",
       "\n",
       "**總結：**\n",
       "\n",
       "函式就像是程式碼的片段，它可以重複執行，執行不同的任務。 Python 程式碼的許多程式，都依賴著函式的工作，才能讓程式運行。\n",
       "\n",
       "**你能舉例說明一下 Python 函式嗎？**  (比如，你可以告訴我一個簡單的函式，它會顯示「Hello, World！」)  如果你想，我可以給你一個範例來開始。"
      ],
      "text/plain": [
       "<IPython.core.display.Markdown object>"
      ]
     },
     "metadata": {},
     "output_type": "display_data"
    }
   ],
   "source": [
    "import requests\n",
    "#import pprint\n",
    "from pprint import pprint\n",
    "from IPython.display import Markdown, display\n",
    "\n",
    "def generate_with_ollama(prompt:str)->None:\n",
    "    url = \"http://localhost:11434/api/generate\"\n",
    "    payload = {\n",
    "        \"model\":\"gemma3:1b\",\n",
    "        \"prompt\":prompt,\n",
    "        \"stream\":False\n",
    "    }\n",
    "    response = requests.post(url,json=payload)\n",
    "    result = response.json()\n",
    "    #print(type(result))\n",
    "    #pprint(result)\n",
    "    print(\"===========AI回應==============\")\n",
    "    display(Markdown(result['response']))\n",
    "\n",
    "generate_with_ollama(\"請用簡單的方式解釋什麼是Python的函式？\")"
   ]
  }
 ],
 "metadata": {
  "kernelspec": {
   "display_name": "line_bot",
   "language": "python",
   "name": "python3"
  },
  "language_info": {
   "codemirror_mode": {
    "name": "ipython",
    "version": 3
   },
   "file_extension": ".py",
   "mimetype": "text/x-python",
   "name": "python",
   "nbconvert_exporter": "python",
   "pygments_lexer": "ipython3",
   "version": "3.12.11"
  }
 },
 "nbformat": 4,
 "nbformat_minor": 5
}
