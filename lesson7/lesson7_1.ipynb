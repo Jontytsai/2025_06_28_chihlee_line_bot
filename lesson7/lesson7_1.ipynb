{
 "cells": [
  {
   "cell_type": "code",
   "execution_count": 1,
   "id": "a4c7a417",
   "metadata": {},
   "outputs": [
    {
     "data": {
      "text/markdown": [
       "人工智慧 (AI) 聽起來很神奇，但它的運作原理其實可以想像成一個非常聰明且能不斷學習的「數位大腦」。它並不是魔法，而是一套複雜的系統，透過以下幾個核心步驟來學習、理解並做出判斷：\n",
       "\n",
       "### AI 的運作原理四大核心步驟：\n",
       "\n",
       "1.  **資料收集與準備 (Data Collection & Preparation)**\n",
       "    *   **輸入 (Input):** AI 的學習需要大量的「數據」。這些數據就像 AI 的「教科書」，可以是圖片、文字、聲音、數字、影片等各種形式。\n",
       "    *   **整理與標註:** 這些數據需要被清理、整理，有時還要進行「標註」(例如，告訴 AI 這張圖裡是「貓」，那張圖裡是「狗」)。數據的質量和數量直接影響 AI 的學習效果。\n",
       "\n",
       "2.  **模型訓練 (Model Training)**\n",
       "    *   **學習核心:** 這是 AI 學習的核心階段。AI 利用「演算法」(Algorithms) 來從這些海量的數據中學習並找出規律和模式。\n",
       "    *   **演算法與模型:** 想像這就像一個學生在研讀教科書 (數據)，並用特定的學習方法 (演算法) 來理解知識。\n",
       "        *   **機器學習 (Machine Learning):** 這是 AI 的一個重要分支，讓電腦無需被明確編程就能學習。它包含多種演算法，例如決策樹、支持向量機等。\n",
       "        *   **深度學習 (Deep Learning):** 是機器學習的一個子集，特別擅長處理非結構化數據 (如圖像、語音)。它模仿人類大腦神經網路的結構，建立多層次的「類神經網路」(Artificial Neural Networks) 來進行複雜的模式識別。層次越多，能學習到的抽象特徵越複雜。\n",
       "    *   **參數調整:** 在訓練過程中，模型會不斷調整內部的「參數」，就像學生透過練習題來調整自己的理解，直到它能有效地識別數據中的模式。\n",
       "\n",
       "3.  **預測與決策 (Prediction & Decision-Making / Inference)**\n",
       "    *   **應用階段:** 一旦模型訓練完成，它就具備了「學習」到的知識。當有新的、未見過的數據輸入時，這個模型就能運用它所學到的規律來進行「預測」(Prediction) 或「決策」(Decision)。\n",
       "    *   **推論 (Inference):** 這個過程稱為「推論」(Inference)。例如，當你上傳一張新的照片，訓練好的 AI 模型會根據它所學到的貓狗特徵，判斷這張照片裡是貓還是狗。\n",
       "    *   **應用實例:** 你的手機人臉辨識、電商網站的商品推薦、垃圾郵件過濾等，都是 AI 模型在進行預測和決策的應用。\n",
       "\n",
       "4.  **評估與優化 (Evaluation & Optimization)**\n",
       "    *   **持續改進:** AI 第一次的學習不一定完美。它的表現會被評估，例如判斷它預測的準確率有多高、是否有錯誤。\n",
       "    *   **回饋循環:** 根據評估結果，開發者會對模型或數據進行調整和優化，以提高其準確性和效率。這個「輸入 -> 學習 -> 輸出 -> 評估 -> 調整」的回饋循環是 AI 能夠持續進步的關鍵。\n",
       "\n",
       "### 關鍵組成要素：\n",
       "\n",
       "*   **數據 (Data):** AI 的糧食，決定了 AI 能學到什麼。\n",
       "*   **演算法與模型 (Algorithms & Models):** AI 的大腦和學習規則，決定了 AI 如何學習。\n",
       "*   **運算能力 (Computational Power):** AI 學習的引擎，尤其在深度學習中需要強大的圖形處理器 (GPU) 或專用硬體來處理大量的運算。\n",
       "\n",
       "### AI 的主要學習方式：\n",
       "\n",
       "AI 有多種學習範式，其中最常見的包括：\n",
       "\n",
       "*   **監督式學習 (Supervised Learning):** 從帶有「正確答案」或「標籤」的數據中學習。例如，給 AI 看數千張標註為「貓」或「狗」的圖片，讓它學會區分。應用於圖片分類、垃圾郵件識別等。\n",
       "*   **非監督式學習 (Unsupervised Learning):** 從無標籤的數據中找出結構或群組。例如，給 AI 一堆未分類的客戶資料，讓它自己找出不同客戶群體的特徵。應用於客戶分群、異常檢測等。\n",
       "*   **強化學習 (Reinforcement Learning):** 透過「嘗試-錯誤」和「獎勵-懲罰」的機制學習。AI 模型在一個環境中執行動作，如果動作正確會得到獎勵，錯誤則會受到懲罰，從而學會最佳策略。應用於下棋、自動駕駛、機器人控制等。\n",
       "\n",
       "### 總結：\n",
       "\n",
       "總而言之，AI 的運作原理就是透過將**大量的數據**輸入到特定的**演算法模型**中，並利用強大的**運算能力**，讓模型從數據中學習**規律和模式**，進而能夠對新的數據進行**預測、分類或做出智慧的決策**。這是一個持續學習與不斷優化的過程，使得 AI 能夠在越來越多的領域中發揮作用。"
      ],
      "text/plain": [
       "<IPython.core.display.Markdown object>"
      ]
     },
     "metadata": {},
     "output_type": "display_data"
    }
   ],
   "source": [
    "from google import genai\n",
    "import os\n",
    "from IPython.display import display, Markdown, Latex\n",
    "\n",
    "client = genai.Client(api_key=os.environ['GEMINI_API_KEY'])\n",
    "\n",
    "response = client.models.generate_content(\n",
    "    model=\"gemini-2.5-flash\",\n",
    "    contents=\"AI是如何工作的(請使用繁體中文回答)?\"\n",
    ")\n",
    "\n",
    "display(Markdown(response.text))"
   ]
  },
  {
   "cell_type": "code",
   "execution_count": 3,
   "id": "5a8db393",
   "metadata": {},
   "outputs": [
    {
     "name": "stdout",
     "output_type": "stream",
     "text": [
      "AI透過分析大量數據、學習模式和做出預測來工作。\n",
      "AI works by analyzing large amounts of data, learning patterns, and making predictions.\n",
      "\n",
      "它使用複雜的演算法和統計模型來識別數據中的關聯性。\n",
      "It uses complex algorithms and statistical models to identify relationships within data.\n",
      "\n",
      "這些模型可以讓它在沒有明確編程的情況下執行任務，例如識別圖像或理解語言。\n",
      "These models allow it to perform tasks such as recognizing images or understanding language without being explicitly programmed.\n",
      "\n",
      "當AI系統隨著時間獲得更多經驗時，它們的性能也會隨之提高。\n",
      "AI systems improve their performance over time as they gain more experience.\n"
     ]
    }
   ],
   "source": [
    "from google import genai\n",
    "from google.genai import types\n",
    "\n",
    "client = genai.Client()\n",
    "\n",
    "system_instruction = \"\"\"\n",
    "你是個友善且樂於助人的助理。\n",
    "回答時,請回答繁體中文和英文,\n",
    "一行繁體中文,一行英文翻譯\n",
    "\"\"\"\n",
    "\n",
    "\n",
    "\n",
    "thinking = types.ThinkingConfig(thinking_budget=0)\n",
    "\n",
    "config = types.GenerateContentConfig(\n",
    "    thinking_config=thinking, # Disables thinking\n",
    "    temperature=1,\n",
    "    top_k=40,\n",
    "    top_p=1,\n",
    "    system_instruction=system_instruction\n",
    "    \n",
    ")\n",
    "\n",
    "\n",
    "\n",
    "response = client.models.generate_content(\n",
    "    model=\"gemini-2.5-flash\",\n",
    "    contents=[\"AI是如何工作的?\"],\n",
    "    config=config\n",
    ")\n",
    "print(response.text)"
   ]
  }
 ],
 "metadata": {
  "kernelspec": {
   "display_name": "line_bot",
   "language": "python",
   "name": "python3"
  },
  "language_info": {
   "codemirror_mode": {
    "name": "ipython",
    "version": 3
   },
   "file_extension": ".py",
   "mimetype": "text/x-python",
   "name": "python",
   "nbconvert_exporter": "python",
   "pygments_lexer": "ipython3",
   "version": "3.12.11"
  }
 },
 "nbformat": 4,
 "nbformat_minor": 5
}
