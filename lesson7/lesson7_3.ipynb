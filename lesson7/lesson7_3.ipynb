{
 "cells": [
  {
   "cell_type": "code",
   "execution_count": 1,
   "id": "d2c61573",
   "metadata": {},
   "outputs": [
    {
     "name": "stdout",
     "output_type": "stream",
     "text": [
      "人工智慧 (AI) 工作的核心原理可以概括為：**機器透過大量數據「學習」模式，然後利用這些模式來執行任務、做出預測或解決問題**。\n",
      "\n",
      "讓我們用一個簡單的例子和\n",
      "步驟來解釋：\n",
      "\n",
      "### 想像一個嬰兒學習辨識貓和狗\n",
      "\n",
      "1.  **數據 (Data)：AI的「糧食」**\n",
      "    *   **嬰兒：** 你給嬰兒看許多貓\n",
      "和狗的圖片，並告訴他：「這是貓，那是狗。」\n",
      "    *   **AI：** AI需要大量的數據來學習。這些數據可以是文字、圖片、聲音、數字等。例如，要讓AI辨識貓和\n",
      "狗，你必須給它數百萬張已經標註為「貓」或「狗」的圖片。\n",
      "    *   **關鍵：** 數據的數量、多樣性和品質對AI的學習至關重要。垃圾\n",
      "進，垃圾出 (Garbage In, Garbage Out)。\n",
      "\n",
      "2.  **演算法與模型 (Algorithms & Models)：AI的「大腦」或「食譜」**\n",
      "    *   **嬰兒：** 嬰兒的大\n",
      "腦在觀察這些圖片時，會默默地建立一些關於貓和狗的「規則」或「特徵」。例如，貓有尖耳朵、鬍鬚，狗的鼻子比較突出等等。\n",
      "    *   **AI\n",
      "：** 演算法是AI學習和解決問題的「食譜」或「規則集」。它告訴機器如何從數據中找到模式、建立關聯。常見的演算法包括：\n",
      "        *   **機器學習\n",
      " (Machine Learning, ML)：** 讓機器透過經驗來提高性能，而無需明確地程式設計。\n",
      "        *   **深度學習 (Deep Learning, DL)：** 機器學習的一個子集，利用「神經網路 (\n",
      "Neural Networks)」來模仿人腦的結構和功能，擅長處理圖像、聲音等複雜數據。\n",
      "    *   當演算法在數據上運行並學習後，它會形成一個「模型 (Model)」。這個\n",
      "模型就是AI學到的「知識」。\n",
      "\n",
      "3.  **訓練 (Training)：AI的「練習」過程**\n",
      "    *   **嬰兒：** 嬰兒不斷地看圖片，你不斷地指正他：「這不是貓\n",
      "，這是狗。」嬰兒會根據你的反饋調整他腦中的「規則」，直到他能正確辨識。\n",
      "    *   **AI：** 這是AI學習的核心階段。它將訓練數據輸入到模型中，模型\n",
      "會嘗試根據現有的「知識」做出預測（例如，判斷一張圖片是貓還是狗）。\n",
      "        *   **誤差計算：** 如果模型的預測是錯的（例如，把貓說成狗），AI\n",
      "會計算這個錯誤有多大。\n",
      "        *   **參數調整：** AI會根據這個錯誤，微調其內部數十萬甚至數十億個「參數」(Parameters)，就像嬰兒調整他的「規則」一樣。\n",
      "\n",
      "        *   **迭代：** 這個過程會重複數千次、數萬次，直到模型的錯誤率降低到一個可接受的水平。這是一個最佳化 (Optimization) 的過程，目的是讓模型在未來的數據上做出\n",
      "最準確的預測。\n",
      "\n",
      "4.  **推論與應用 (Inference & Application)：AI的「實戰」**\n",
      "    *   **嬰兒：** 訓練完成後，當嬰兒看到一張\n",
      "從未見過的新圖片時，他就能憑藉之前學到的「知識」正確地說出：「這是一隻貓！」\n",
      "    *   **AI：** 一旦模型訓練完成，它就具備了「\n",
      "推論 (Inference)」或「預測」的能力。當你給它一張新的、未曾見過的圖片時，它會運用在訓練階段學到的知識來判斷這張圖片是貓還是狗。\n",
      "    *   \n",
      "**應用：** 這就是我們日常生活中接觸到的AI應用，例如：\n",
      "        *   **推薦系統：** 根據你過去的喜好推薦電影、商品。\n",
      "        *   **語音助理：** 辨\n",
      "識你的語音指令。\n",
      "        *   **人臉辨識：** 在照片中辨識出人臉。\n",
      "        *   **自動駕駛：** 辨識路況、行人、交通號誌。\n",
      "\n",
      "        *   **大型語言模型 (LLM)：** 例如ChatGPT，根據學到的語言模式生成連貫有意義的文字。\n",
      "\n",
      "5.  **持續學習與改進 (Continuous Learning & Improvement)：AI的「成長\n",
      "」**\n",
      "    *   **嬰兒：** 嬰兒在成長過程中會遇到更多不同的貓和狗（例如不同的品種、不同的姿勢），他的辨識能力會越來越精確。\n",
      "    *   **AI：** \n",
      "許多AI系統並非一勞永逸。它們可以透過持續接收新的數據、新的使用者回饋來進一步優化和更新模型，使其表現越來越好，適應新的情況或解決新的問題。這形成了一個\n",
      "回饋循環 (feedback loop)。\n",
      "\n",
      "### 總結\n",
      "\n",
      "總之，AI工作的核心是透過**海量數據、複雜演算法**和**迭代訓練**，讓機器學會**識別模式**、**做出決策\n",
      "**和**執行任務**，進而模擬甚至超越人類在特定領域的智慧。它並不是真正的「思考」，而是基於數據和數學模型進行高度複雜的模式識別和預測。\n"
     ]
    }
   ],
   "source": [
    "from google import genai\n",
    "\n",
    "client = genai.Client()\n",
    "response = client.models.generate_content_stream(\n",
    "    model=\"gemini-2.5-flash\",\n",
    "    contents=[\"AI是如何工作的(請使用繁體中文回答)?\"]\n",
    ")\n",
    "for chunk in response:\n",
    "    print(chunk.text)"
   ]
  },
  {
   "cell_type": "code",
   "execution_count": 5,
   "id": "8fb3a2ca",
   "metadata": {},
   "outputs": [
    {
     "ename": "ModuleNotFoundError",
     "evalue": "No module named 'PIL'",
     "output_type": "error",
     "traceback": [
      "\u001b[31m---------------------------------------------------------------------------\u001b[39m",
      "\u001b[31mModuleNotFoundError\u001b[39m                       Traceback (most recent call last)",
      "\u001b[36mCell\u001b[39m\u001b[36m \u001b[39m\u001b[32mIn[5]\u001b[39m\u001b[32m, line 1\u001b[39m\n\u001b[32m----> \u001b[39m\u001b[32m1\u001b[39m \u001b[38;5;28;01mimport\u001b[39;00m\u001b[38;5;250m \u001b[39m\u001b[34;01mPIL\u001b[39;00m\u001b[34;01m.\u001b[39;00m\u001b[34;01mImage\u001b[39;00m\n\u001b[32m      2\u001b[39m \u001b[38;5;28;01mfrom\u001b[39;00m\u001b[38;5;250m \u001b[39m\u001b[34;01mgoogle\u001b[39;00m\u001b[38;5;250m \u001b[39m\u001b[38;5;28;01mimport\u001b[39;00m genai\n\u001b[32m      3\u001b[39m \u001b[38;5;28;01mfrom\u001b[39;00m\u001b[38;5;250m \u001b[39m\u001b[34;01mIPython\u001b[39;00m\u001b[34;01m.\u001b[39;00m\u001b[34;01mdisplay\u001b[39;00m\u001b[38;5;250m \u001b[39m\u001b[38;5;28;01mimport\u001b[39;00m display, Markdown\n",
      "\u001b[31mModuleNotFoundError\u001b[39m: No module named 'PIL'"
     ]
    }
   ],
   "source": [
    "import PIL.Image\n",
    "from google import genai\n",
    "from IPython.display import display, Markdown\n",
    "\n",
    "client = genai.Client()\n",
    "image = PIL.Image.open('bear.jpg')\n",
    "response = client.models.generate_content(\n",
    "    model=\"gemini-2.5-flash\",\n",
    "    contents=[image, \"請告訴我這是什麼動物,還有關於它的一些資訊\"]\n",
    ")\n",
    "\n",
    "display(Markdown(response.text))"
   ]
  },
  {
   "cell_type": "code",
   "execution_count": 6,
   "id": "73295800",
   "metadata": {},
   "outputs": [
    {
     "name": "stdout",
     "output_type": "stream",
     "text": [
      "太好了！有兩隻狗狗作伴一定很熱鬧。\n",
      "\n",
      "牠們是什麼品種呢？叫什麼名字呀？有什麼想跟我分享的嗎，或者需要什麼養狗方面的資訊？如果你的房子裡有兩隻狗，那麼通常情況下會有 **8隻爪子**。\n",
      "\n",
      "因為每隻狗有4隻爪子，所以 2 隻狗 x 4 隻爪子/狗 = 8 隻爪子。role - user: 我有2隻狗在我的房子內\n",
      "role - model: 太好了！有兩隻狗狗作伴一定很熱鬧。\n",
      "\n",
      "牠們是什麼品種呢？叫什麼名字呀？有什麼想跟我分享的嗎，或者需要什麼養狗方面的資訊？\n",
      "role - user: 在我家裏有多少爪子?\n",
      "role - model: 如果你的房子裡有兩隻狗，那麼通常情況下會有 **8隻爪子**。\n",
      "\n",
      "因為每隻狗有4隻爪子，所以 2 隻狗 x 4 隻爪子/狗 = 8 \n",
      "role - model: 隻爪子。\n"
     ]
    }
   ],
   "source": [
    "from google import genai\n",
    "\n",
    "client = genai.Client()\n",
    "chat = client.chats.create(model=\"gemini-2.5-flash\")\n",
    "\n",
    "response = chat.send_message_stream(\"我有2隻狗在我的房子內\")\n",
    "for chunk in response:\n",
    "    print(chunk.text, end=\"\")\n",
    "\n",
    "response = chat.send_message_stream('在我家裏有多少爪子?')\n",
    "for chunk in response:\n",
    "    print(chunk.text, end=\"\")\n",
    "\n",
    "for message in chat.get_history():\n",
    "    print(f'role - {message.role}', end=\": \")\n",
    "    print(message.parts[0].text)"
   ]
  }
 ],
 "metadata": {
  "kernelspec": {
   "display_name": "line_bot",
   "language": "python",
   "name": "python3"
  },
  "language_info": {
   "codemirror_mode": {
    "name": "ipython",
    "version": 3
   },
   "file_extension": ".py",
   "mimetype": "text/x-python",
   "name": "python",
   "nbconvert_exporter": "python",
   "pygments_lexer": "ipython3",
   "version": "3.12.11"
  }
 },
 "nbformat": 4,
 "nbformat_minor": 5
}
