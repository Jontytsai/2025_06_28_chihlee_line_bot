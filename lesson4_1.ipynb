{
 "cells": [
  {
   "cell_type": "markdown",
   "id": "a4657e97",
   "metadata": {},
   "source": [
    "1 ### python 儲存資料\n",
    "2 - 變數\n",
    "3 - list\n",
    "4 - dict"
   ]
  },
  {
   "cell_type": "code",
   "execution_count": null,
   "id": "dd4b6633",
   "metadata": {},
   "outputs": [
    {
     "name": "stdout",
     "output_type": "stream",
     "text": [
      "建立變數\n",
      "變數名稱 | python\n",
      "變數類型: * <class 'str'>\n",
      "變數長度: - 6\n"
     ]
    }
   ],
   "source": [
    "print(\"建立變數\")\n",
    "name = \"python\"\n",
    "print(\"變數名稱\", name, sep=\"\")\n",
    "print(\"變數類型:\", type(name), sep=\"*\")\n",
    "print(\"變數長度:\", len(name), sep=\"-\")"
   ]
  },
  {
   "cell_type": "code",
   "execution_count": 5,
   "id": "89038087",
   "metadata": {},
   "outputs": [
    {
     "name": "stdout",
     "output_type": "stream",
     "text": [
      "1 | 5 | Hello | True.\n"
     ]
    }
   ],
   "source": [
    "print(1, 5 ,\"Hello\", True, sep=\" | \", end=\".\\n\")  "
   ]
  }
 ],
 "metadata": {
  "kernelspec": {
   "display_name": "line_bot",
   "language": "python",
   "name": "python3"
  },
  "language_info": {
   "codemirror_mode": {
    "name": "ipython",
    "version": 3
   },
   "file_extension": ".py",
   "mimetype": "text/x-python",
   "name": "python",
   "nbconvert_exporter": "python",
   "pygments_lexer": "ipython3",
   "version": "3.12.11"
  }
 },
 "nbformat": 4,
 "nbformat_minor": 5
}
